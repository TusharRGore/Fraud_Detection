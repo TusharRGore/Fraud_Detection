{
  "nbformat": 4,
  "nbformat_minor": 0,
  "metadata": {
    "colab": {
      "provenance": [],
      "toc_visible": true
    },
    "kernelspec": {
      "name": "python3",
      "display_name": "Python 3"
    },
    "language_info": {
      "name": "python"
    }
  },
  "cells": [
    {
      "cell_type": "markdown",
      "source": [
        "###**Problem Statement**\n",
        "\n",
        "The goal is to develop a machine learning model that accurately identifies fraudulent transactions from a highly unbalanced dataset of European credit card transactions recorded in September 2013, which consists of 284,807 transactions."
      ],
      "metadata": {
        "id": "qOxAUx6nWRx9"
      }
    },
    {
      "cell_type": "code",
      "execution_count": null,
      "metadata": {
        "id": "q2hr1zwRTU98"
      },
      "outputs": [],
      "source": [
        "# Importing some common libraries\n",
        "import numpy as np\n",
        "import pandas as pd\n",
        "from matplotlib import pyplot as plt\n",
        "import seaborn as sns\n",
        "import warnings\n",
        "warnings.filterwarnings('ignore')\n",
        "\n",
        "# For statistical tests\n",
        "import scipy.stats as stats\n",
        "\n",
        "# For spilliting the data and preprocessing\n",
        "from sklearn.model_selection import train_test_split\n",
        "from sklearn.preprocessing import StandardScaler\n",
        "\n",
        "# For sampling\n",
        "from imblearn.over_sampling import SMOTE\n",
        "\n",
        "# for model building\n",
        "import statsmodels.api as sm\n",
        "from sklearn.tree import DecisionTreeClassifier\n",
        "from lightgbm import LGBMClassifier\n",
        "\n",
        "# For evaluation\n",
        "from sklearn.metrics import f1_score,accuracy_score,confusion_matrix,ConfusionMatrixDisplay,classification_report\n",
        "from sklearn.metrics import recall_score,precision_score"
      ]
    },
    {
      "cell_type": "code",
      "source": [
        "from google.colab import drive\n",
        "drive.mount('/content/drive')"
      ],
      "metadata": {
        "colab": {
          "base_uri": "https://localhost:8080/"
        },
        "id": "QXrzGyOjTtiV",
        "outputId": "f03f42de-1245-441b-89ff-ecbed8e0cfdb"
      },
      "execution_count": null,
      "outputs": [
        {
          "output_type": "stream",
          "name": "stdout",
          "text": [
            "Drive already mounted at /content/drive; to attempt to forcibly remount, call drive.mount(\"/content/drive\", force_remount=True).\n"
          ]
        }
      ]
    },
    {
      "cell_type": "code",
      "source": [
        "# Reading the data\n",
        "data=pd.read_csv('/content/drive/MyDrive/dataset/creditcard.csv')"
      ],
      "metadata": {
        "id": "upNBTWlXUjf2"
      },
      "execution_count": null,
      "outputs": []
    },
    {
      "cell_type": "code",
      "source": [
        "# First five rows\n",
        "data.head()"
      ],
      "metadata": {
        "colab": {
          "base_uri": "https://localhost:8080/",
          "height": 255
        },
        "id": "sLft5YEkVvPK",
        "outputId": "dd6c2061-96e3-4fae-dad1-4753db612b38"
      },
      "execution_count": null,
      "outputs": [
        {
          "output_type": "execute_result",
          "data": {
            "text/plain": [
              "   Time        V1        V2        V3        V4        V5        V6        V7  \\\n",
              "0   0.0 -1.359807 -0.072781  2.536347  1.378155 -0.338321  0.462388  0.239599   \n",
              "1   0.0  1.191857  0.266151  0.166480  0.448154  0.060018 -0.082361 -0.078803   \n",
              "2   1.0 -1.358354 -1.340163  1.773209  0.379780 -0.503198  1.800499  0.791461   \n",
              "3   1.0 -0.966272 -0.185226  1.792993 -0.863291 -0.010309  1.247203  0.237609   \n",
              "4   2.0 -1.158233  0.877737  1.548718  0.403034 -0.407193  0.095921  0.592941   \n",
              "\n",
              "         V8        V9  ...       V21       V22       V23       V24       V25  \\\n",
              "0  0.098698  0.363787  ... -0.018307  0.277838 -0.110474  0.066928  0.128539   \n",
              "1  0.085102 -0.255425  ... -0.225775 -0.638672  0.101288 -0.339846  0.167170   \n",
              "2  0.247676 -1.514654  ...  0.247998  0.771679  0.909412 -0.689281 -0.327642   \n",
              "3  0.377436 -1.387024  ... -0.108300  0.005274 -0.190321 -1.175575  0.647376   \n",
              "4 -0.270533  0.817739  ... -0.009431  0.798278 -0.137458  0.141267 -0.206010   \n",
              "\n",
              "        V26       V27       V28  Amount  Class  \n",
              "0 -0.189115  0.133558 -0.021053  149.62      0  \n",
              "1  0.125895 -0.008983  0.014724    2.69      0  \n",
              "2 -0.139097 -0.055353 -0.059752  378.66      0  \n",
              "3 -0.221929  0.062723  0.061458  123.50      0  \n",
              "4  0.502292  0.219422  0.215153   69.99      0  \n",
              "\n",
              "[5 rows x 31 columns]"
            ],
            "text/html": [
              "\n",
              "  <div id=\"df-fe7db2c3-2573-46f4-b744-2026df47ae8b\" class=\"colab-df-container\">\n",
              "    <div>\n",
              "<style scoped>\n",
              "    .dataframe tbody tr th:only-of-type {\n",
              "        vertical-align: middle;\n",
              "    }\n",
              "\n",
              "    .dataframe tbody tr th {\n",
              "        vertical-align: top;\n",
              "    }\n",
              "\n",
              "    .dataframe thead th {\n",
              "        text-align: right;\n",
              "    }\n",
              "</style>\n",
              "<table border=\"1\" class=\"dataframe\">\n",
              "  <thead>\n",
              "    <tr style=\"text-align: right;\">\n",
              "      <th></th>\n",
              "      <th>Time</th>\n",
              "      <th>V1</th>\n",
              "      <th>V2</th>\n",
              "      <th>V3</th>\n",
              "      <th>V4</th>\n",
              "      <th>V5</th>\n",
              "      <th>V6</th>\n",
              "      <th>V7</th>\n",
              "      <th>V8</th>\n",
              "      <th>V9</th>\n",
              "      <th>...</th>\n",
              "      <th>V21</th>\n",
              "      <th>V22</th>\n",
              "      <th>V23</th>\n",
              "      <th>V24</th>\n",
              "      <th>V25</th>\n",
              "      <th>V26</th>\n",
              "      <th>V27</th>\n",
              "      <th>V28</th>\n",
              "      <th>Amount</th>\n",
              "      <th>Class</th>\n",
              "    </tr>\n",
              "  </thead>\n",
              "  <tbody>\n",
              "    <tr>\n",
              "      <th>0</th>\n",
              "      <td>0.0</td>\n",
              "      <td>-1.359807</td>\n",
              "      <td>-0.072781</td>\n",
              "      <td>2.536347</td>\n",
              "      <td>1.378155</td>\n",
              "      <td>-0.338321</td>\n",
              "      <td>0.462388</td>\n",
              "      <td>0.239599</td>\n",
              "      <td>0.098698</td>\n",
              "      <td>0.363787</td>\n",
              "      <td>...</td>\n",
              "      <td>-0.018307</td>\n",
              "      <td>0.277838</td>\n",
              "      <td>-0.110474</td>\n",
              "      <td>0.066928</td>\n",
              "      <td>0.128539</td>\n",
              "      <td>-0.189115</td>\n",
              "      <td>0.133558</td>\n",
              "      <td>-0.021053</td>\n",
              "      <td>149.62</td>\n",
              "      <td>0</td>\n",
              "    </tr>\n",
              "    <tr>\n",
              "      <th>1</th>\n",
              "      <td>0.0</td>\n",
              "      <td>1.191857</td>\n",
              "      <td>0.266151</td>\n",
              "      <td>0.166480</td>\n",
              "      <td>0.448154</td>\n",
              "      <td>0.060018</td>\n",
              "      <td>-0.082361</td>\n",
              "      <td>-0.078803</td>\n",
              "      <td>0.085102</td>\n",
              "      <td>-0.255425</td>\n",
              "      <td>...</td>\n",
              "      <td>-0.225775</td>\n",
              "      <td>-0.638672</td>\n",
              "      <td>0.101288</td>\n",
              "      <td>-0.339846</td>\n",
              "      <td>0.167170</td>\n",
              "      <td>0.125895</td>\n",
              "      <td>-0.008983</td>\n",
              "      <td>0.014724</td>\n",
              "      <td>2.69</td>\n",
              "      <td>0</td>\n",
              "    </tr>\n",
              "    <tr>\n",
              "      <th>2</th>\n",
              "      <td>1.0</td>\n",
              "      <td>-1.358354</td>\n",
              "      <td>-1.340163</td>\n",
              "      <td>1.773209</td>\n",
              "      <td>0.379780</td>\n",
              "      <td>-0.503198</td>\n",
              "      <td>1.800499</td>\n",
              "      <td>0.791461</td>\n",
              "      <td>0.247676</td>\n",
              "      <td>-1.514654</td>\n",
              "      <td>...</td>\n",
              "      <td>0.247998</td>\n",
              "      <td>0.771679</td>\n",
              "      <td>0.909412</td>\n",
              "      <td>-0.689281</td>\n",
              "      <td>-0.327642</td>\n",
              "      <td>-0.139097</td>\n",
              "      <td>-0.055353</td>\n",
              "      <td>-0.059752</td>\n",
              "      <td>378.66</td>\n",
              "      <td>0</td>\n",
              "    </tr>\n",
              "    <tr>\n",
              "      <th>3</th>\n",
              "      <td>1.0</td>\n",
              "      <td>-0.966272</td>\n",
              "      <td>-0.185226</td>\n",
              "      <td>1.792993</td>\n",
              "      <td>-0.863291</td>\n",
              "      <td>-0.010309</td>\n",
              "      <td>1.247203</td>\n",
              "      <td>0.237609</td>\n",
              "      <td>0.377436</td>\n",
              "      <td>-1.387024</td>\n",
              "      <td>...</td>\n",
              "      <td>-0.108300</td>\n",
              "      <td>0.005274</td>\n",
              "      <td>-0.190321</td>\n",
              "      <td>-1.175575</td>\n",
              "      <td>0.647376</td>\n",
              "      <td>-0.221929</td>\n",
              "      <td>0.062723</td>\n",
              "      <td>0.061458</td>\n",
              "      <td>123.50</td>\n",
              "      <td>0</td>\n",
              "    </tr>\n",
              "    <tr>\n",
              "      <th>4</th>\n",
              "      <td>2.0</td>\n",
              "      <td>-1.158233</td>\n",
              "      <td>0.877737</td>\n",
              "      <td>1.548718</td>\n",
              "      <td>0.403034</td>\n",
              "      <td>-0.407193</td>\n",
              "      <td>0.095921</td>\n",
              "      <td>0.592941</td>\n",
              "      <td>-0.270533</td>\n",
              "      <td>0.817739</td>\n",
              "      <td>...</td>\n",
              "      <td>-0.009431</td>\n",
              "      <td>0.798278</td>\n",
              "      <td>-0.137458</td>\n",
              "      <td>0.141267</td>\n",
              "      <td>-0.206010</td>\n",
              "      <td>0.502292</td>\n",
              "      <td>0.219422</td>\n",
              "      <td>0.215153</td>\n",
              "      <td>69.99</td>\n",
              "      <td>0</td>\n",
              "    </tr>\n",
              "  </tbody>\n",
              "</table>\n",
              "<p>5 rows × 31 columns</p>\n",
              "</div>\n",
              "    <div class=\"colab-df-buttons\">\n",
              "\n",
              "  <div class=\"colab-df-container\">\n",
              "    <button class=\"colab-df-convert\" onclick=\"convertToInteractive('df-fe7db2c3-2573-46f4-b744-2026df47ae8b')\"\n",
              "            title=\"Convert this dataframe to an interactive table.\"\n",
              "            style=\"display:none;\">\n",
              "\n",
              "  <svg xmlns=\"http://www.w3.org/2000/svg\" height=\"24px\" viewBox=\"0 -960 960 960\">\n",
              "    <path d=\"M120-120v-720h720v720H120Zm60-500h600v-160H180v160Zm220 220h160v-160H400v160Zm0 220h160v-160H400v160ZM180-400h160v-160H180v160Zm440 0h160v-160H620v160ZM180-180h160v-160H180v160Zm440 0h160v-160H620v160Z\"/>\n",
              "  </svg>\n",
              "    </button>\n",
              "\n",
              "  <style>\n",
              "    .colab-df-container {\n",
              "      display:flex;\n",
              "      gap: 12px;\n",
              "    }\n",
              "\n",
              "    .colab-df-convert {\n",
              "      background-color: #E8F0FE;\n",
              "      border: none;\n",
              "      border-radius: 50%;\n",
              "      cursor: pointer;\n",
              "      display: none;\n",
              "      fill: #1967D2;\n",
              "      height: 32px;\n",
              "      padding: 0 0 0 0;\n",
              "      width: 32px;\n",
              "    }\n",
              "\n",
              "    .colab-df-convert:hover {\n",
              "      background-color: #E2EBFA;\n",
              "      box-shadow: 0px 1px 2px rgba(60, 64, 67, 0.3), 0px 1px 3px 1px rgba(60, 64, 67, 0.15);\n",
              "      fill: #174EA6;\n",
              "    }\n",
              "\n",
              "    .colab-df-buttons div {\n",
              "      margin-bottom: 4px;\n",
              "    }\n",
              "\n",
              "    [theme=dark] .colab-df-convert {\n",
              "      background-color: #3B4455;\n",
              "      fill: #D2E3FC;\n",
              "    }\n",
              "\n",
              "    [theme=dark] .colab-df-convert:hover {\n",
              "      background-color: #434B5C;\n",
              "      box-shadow: 0px 1px 3px 1px rgba(0, 0, 0, 0.15);\n",
              "      filter: drop-shadow(0px 1px 2px rgba(0, 0, 0, 0.3));\n",
              "      fill: #FFFFFF;\n",
              "    }\n",
              "  </style>\n",
              "\n",
              "    <script>\n",
              "      const buttonEl =\n",
              "        document.querySelector('#df-fe7db2c3-2573-46f4-b744-2026df47ae8b button.colab-df-convert');\n",
              "      buttonEl.style.display =\n",
              "        google.colab.kernel.accessAllowed ? 'block' : 'none';\n",
              "\n",
              "      async function convertToInteractive(key) {\n",
              "        const element = document.querySelector('#df-fe7db2c3-2573-46f4-b744-2026df47ae8b');\n",
              "        const dataTable =\n",
              "          await google.colab.kernel.invokeFunction('convertToInteractive',\n",
              "                                                    [key], {});\n",
              "        if (!dataTable) return;\n",
              "\n",
              "        const docLinkHtml = 'Like what you see? Visit the ' +\n",
              "          '<a target=\"_blank\" href=https://colab.research.google.com/notebooks/data_table.ipynb>data table notebook</a>'\n",
              "          + ' to learn more about interactive tables.';\n",
              "        element.innerHTML = '';\n",
              "        dataTable['output_type'] = 'display_data';\n",
              "        await google.colab.output.renderOutput(dataTable, element);\n",
              "        const docLink = document.createElement('div');\n",
              "        docLink.innerHTML = docLinkHtml;\n",
              "        element.appendChild(docLink);\n",
              "      }\n",
              "    </script>\n",
              "  </div>\n",
              "\n",
              "\n",
              "<div id=\"df-563d1653-5fed-4da2-8961-3784e450776c\">\n",
              "  <button class=\"colab-df-quickchart\" onclick=\"quickchart('df-563d1653-5fed-4da2-8961-3784e450776c')\"\n",
              "            title=\"Suggest charts\"\n",
              "            style=\"display:none;\">\n",
              "\n",
              "<svg xmlns=\"http://www.w3.org/2000/svg\" height=\"24px\"viewBox=\"0 0 24 24\"\n",
              "     width=\"24px\">\n",
              "    <g>\n",
              "        <path d=\"M19 3H5c-1.1 0-2 .9-2 2v14c0 1.1.9 2 2 2h14c1.1 0 2-.9 2-2V5c0-1.1-.9-2-2-2zM9 17H7v-7h2v7zm4 0h-2V7h2v10zm4 0h-2v-4h2v4z\"/>\n",
              "    </g>\n",
              "</svg>\n",
              "  </button>\n",
              "\n",
              "<style>\n",
              "  .colab-df-quickchart {\n",
              "      --bg-color: #E8F0FE;\n",
              "      --fill-color: #1967D2;\n",
              "      --hover-bg-color: #E2EBFA;\n",
              "      --hover-fill-color: #174EA6;\n",
              "      --disabled-fill-color: #AAA;\n",
              "      --disabled-bg-color: #DDD;\n",
              "  }\n",
              "\n",
              "  [theme=dark] .colab-df-quickchart {\n",
              "      --bg-color: #3B4455;\n",
              "      --fill-color: #D2E3FC;\n",
              "      --hover-bg-color: #434B5C;\n",
              "      --hover-fill-color: #FFFFFF;\n",
              "      --disabled-bg-color: #3B4455;\n",
              "      --disabled-fill-color: #666;\n",
              "  }\n",
              "\n",
              "  .colab-df-quickchart {\n",
              "    background-color: var(--bg-color);\n",
              "    border: none;\n",
              "    border-radius: 50%;\n",
              "    cursor: pointer;\n",
              "    display: none;\n",
              "    fill: var(--fill-color);\n",
              "    height: 32px;\n",
              "    padding: 0;\n",
              "    width: 32px;\n",
              "  }\n",
              "\n",
              "  .colab-df-quickchart:hover {\n",
              "    background-color: var(--hover-bg-color);\n",
              "    box-shadow: 0 1px 2px rgba(60, 64, 67, 0.3), 0 1px 3px 1px rgba(60, 64, 67, 0.15);\n",
              "    fill: var(--button-hover-fill-color);\n",
              "  }\n",
              "\n",
              "  .colab-df-quickchart-complete:disabled,\n",
              "  .colab-df-quickchart-complete:disabled:hover {\n",
              "    background-color: var(--disabled-bg-color);\n",
              "    fill: var(--disabled-fill-color);\n",
              "    box-shadow: none;\n",
              "  }\n",
              "\n",
              "  .colab-df-spinner {\n",
              "    border: 2px solid var(--fill-color);\n",
              "    border-color: transparent;\n",
              "    border-bottom-color: var(--fill-color);\n",
              "    animation:\n",
              "      spin 1s steps(1) infinite;\n",
              "  }\n",
              "\n",
              "  @keyframes spin {\n",
              "    0% {\n",
              "      border-color: transparent;\n",
              "      border-bottom-color: var(--fill-color);\n",
              "      border-left-color: var(--fill-color);\n",
              "    }\n",
              "    20% {\n",
              "      border-color: transparent;\n",
              "      border-left-color: var(--fill-color);\n",
              "      border-top-color: var(--fill-color);\n",
              "    }\n",
              "    30% {\n",
              "      border-color: transparent;\n",
              "      border-left-color: var(--fill-color);\n",
              "      border-top-color: var(--fill-color);\n",
              "      border-right-color: var(--fill-color);\n",
              "    }\n",
              "    40% {\n",
              "      border-color: transparent;\n",
              "      border-right-color: var(--fill-color);\n",
              "      border-top-color: var(--fill-color);\n",
              "    }\n",
              "    60% {\n",
              "      border-color: transparent;\n",
              "      border-right-color: var(--fill-color);\n",
              "    }\n",
              "    80% {\n",
              "      border-color: transparent;\n",
              "      border-right-color: var(--fill-color);\n",
              "      border-bottom-color: var(--fill-color);\n",
              "    }\n",
              "    90% {\n",
              "      border-color: transparent;\n",
              "      border-bottom-color: var(--fill-color);\n",
              "    }\n",
              "  }\n",
              "</style>\n",
              "\n",
              "  <script>\n",
              "    async function quickchart(key) {\n",
              "      const quickchartButtonEl =\n",
              "        document.querySelector('#' + key + ' button');\n",
              "      quickchartButtonEl.disabled = true;  // To prevent multiple clicks.\n",
              "      quickchartButtonEl.classList.add('colab-df-spinner');\n",
              "      try {\n",
              "        const charts = await google.colab.kernel.invokeFunction(\n",
              "            'suggestCharts', [key], {});\n",
              "      } catch (error) {\n",
              "        console.error('Error during call to suggestCharts:', error);\n",
              "      }\n",
              "      quickchartButtonEl.classList.remove('colab-df-spinner');\n",
              "      quickchartButtonEl.classList.add('colab-df-quickchart-complete');\n",
              "    }\n",
              "    (() => {\n",
              "      let quickchartButtonEl =\n",
              "        document.querySelector('#df-563d1653-5fed-4da2-8961-3784e450776c button');\n",
              "      quickchartButtonEl.style.display =\n",
              "        google.colab.kernel.accessAllowed ? 'block' : 'none';\n",
              "    })();\n",
              "  </script>\n",
              "</div>\n",
              "\n",
              "    </div>\n",
              "  </div>\n"
            ],
            "application/vnd.google.colaboratory.intrinsic+json": {
              "type": "dataframe",
              "variable_name": "data"
            }
          },
          "metadata": {},
          "execution_count": 8
        }
      ]
    },
    {
      "cell_type": "code",
      "source": [
        "data.shape"
      ],
      "metadata": {
        "colab": {
          "base_uri": "https://localhost:8080/"
        },
        "id": "dni1KrGZXKDB",
        "outputId": "e8cda6dd-b93f-4ee6-e3e4-daf0f2d34928"
      },
      "execution_count": null,
      "outputs": [
        {
          "output_type": "execute_result",
          "data": {
            "text/plain": [
              "(284807, 31)"
            ]
          },
          "metadata": {},
          "execution_count": 9
        }
      ]
    },
    {
      "cell_type": "code",
      "source": [
        "# Info of the data\n",
        "data.info()"
      ],
      "metadata": {
        "colab": {
          "base_uri": "https://localhost:8080/"
        },
        "id": "zjc4-vmNXNfZ",
        "outputId": "f95a25a0-894d-4bcf-efe9-1919f5dde52d"
      },
      "execution_count": null,
      "outputs": [
        {
          "output_type": "stream",
          "name": "stdout",
          "text": [
            "<class 'pandas.core.frame.DataFrame'>\n",
            "RangeIndex: 284807 entries, 0 to 284806\n",
            "Data columns (total 31 columns):\n",
            " #   Column  Non-Null Count   Dtype  \n",
            "---  ------  --------------   -----  \n",
            " 0   Time    284807 non-null  float64\n",
            " 1   V1      284807 non-null  float64\n",
            " 2   V2      284807 non-null  float64\n",
            " 3   V3      284807 non-null  float64\n",
            " 4   V4      284807 non-null  float64\n",
            " 5   V5      284807 non-null  float64\n",
            " 6   V6      284807 non-null  float64\n",
            " 7   V7      284807 non-null  float64\n",
            " 8   V8      284807 non-null  float64\n",
            " 9   V9      284807 non-null  float64\n",
            " 10  V10     284807 non-null  float64\n",
            " 11  V11     284807 non-null  float64\n",
            " 12  V12     284807 non-null  float64\n",
            " 13  V13     284807 non-null  float64\n",
            " 14  V14     284807 non-null  float64\n",
            " 15  V15     284807 non-null  float64\n",
            " 16  V16     284807 non-null  float64\n",
            " 17  V17     284807 non-null  float64\n",
            " 18  V18     284807 non-null  float64\n",
            " 19  V19     284807 non-null  float64\n",
            " 20  V20     284807 non-null  float64\n",
            " 21  V21     284807 non-null  float64\n",
            " 22  V22     284807 non-null  float64\n",
            " 23  V23     284807 non-null  float64\n",
            " 24  V24     284807 non-null  float64\n",
            " 25  V25     284807 non-null  float64\n",
            " 26  V26     284807 non-null  float64\n",
            " 27  V27     284807 non-null  float64\n",
            " 28  V28     284807 non-null  float64\n",
            " 29  Amount  284807 non-null  float64\n",
            " 30  Class   284807 non-null  int64  \n",
            "dtypes: float64(30), int64(1)\n",
            "memory usage: 67.4 MB\n"
          ]
        }
      ]
    },
    {
      "cell_type": "code",
      "source": [
        "# Checking for missing values\n",
        "data.isnull().sum()"
      ],
      "metadata": {
        "colab": {
          "base_uri": "https://localhost:8080/"
        },
        "id": "YS6z0nYQXUos",
        "outputId": "4e7dd38f-755e-426e-ed95-f7e051d13df8"
      },
      "execution_count": null,
      "outputs": [
        {
          "output_type": "execute_result",
          "data": {
            "text/plain": [
              "Time      0\n",
              "V1        0\n",
              "V2        0\n",
              "V3        0\n",
              "V4        0\n",
              "V5        0\n",
              "V6        0\n",
              "V7        0\n",
              "V8        0\n",
              "V9        0\n",
              "V10       0\n",
              "V11       0\n",
              "V12       0\n",
              "V13       0\n",
              "V14       0\n",
              "V15       0\n",
              "V16       0\n",
              "V17       0\n",
              "V18       0\n",
              "V19       0\n",
              "V20       0\n",
              "V21       0\n",
              "V22       0\n",
              "V23       0\n",
              "V24       0\n",
              "V25       0\n",
              "V26       0\n",
              "V27       0\n",
              "V28       0\n",
              "Amount    0\n",
              "Class     0\n",
              "dtype: int64"
            ]
          },
          "metadata": {},
          "execution_count": 12
        }
      ]
    },
    {
      "cell_type": "markdown",
      "source": [
        "**Data has no missing values**"
      ],
      "metadata": {
        "id": "yXcjvg82Xbv_"
      }
    },
    {
      "cell_type": "code",
      "source": [
        "# Checking for imbalance of the target variable\n",
        "data.Class.value_counts()"
      ],
      "metadata": {
        "colab": {
          "base_uri": "https://localhost:8080/"
        },
        "id": "NBR9TCGgXfL2",
        "outputId": "09794ac1-cf3f-4e37-98a7-45ab59a1f062"
      },
      "execution_count": null,
      "outputs": [
        {
          "output_type": "execute_result",
          "data": {
            "text/plain": [
              "0    284315\n",
              "1       492\n",
              "Name: Class, dtype: int64"
            ]
          },
          "metadata": {},
          "execution_count": 13
        }
      ]
    },
    {
      "cell_type": "code",
      "source": [
        "\n",
        "# Plotting\n",
        "data['Class'].value_counts().plot(kind='bar', color=['skyblue', 'orange'])\n",
        "\n",
        "# Adding enhancements\n",
        "plt.title('Distribution of Legitimate and Fraudulent Transactions')  # Title\n",
        "plt.xlabel('Transaction Type')  # X-axis label\n",
        "plt.ylabel('Frequency')  # Y-axis label\n",
        "plt.xticks(ticks=[0, 1], labels=['Legitimate', 'Fraudulent'], rotation=0)  # Custom x-axis tick labels\n",
        "plt.grid(axis='y', linestyle='--', alpha=0.7)  # Adding a grid for better readability\n",
        "\n",
        "# Show plot\n",
        "plt.show()\n"
      ],
      "metadata": {
        "colab": {
          "base_uri": "https://localhost:8080/",
          "height": 472
        },
        "id": "5phX1V1LXvds",
        "outputId": "b5414541-1f2f-4ee5-f3e1-06f53ea9ae58"
      },
      "execution_count": null,
      "outputs": [
        {
          "output_type": "display_data",
          "data": {
            "text/plain": [
              "<Figure size 640x480 with 1 Axes>"
            ],
            "image/png": "[encoded data removed]"
          },
          "metadata": {}
        }
      ]
    },
    {
      "cell_type": "markdown",
      "source": [
        " **We see that the target variable is highly imbalanced. We may have to imply oversampling techniques to counter this**"
      ],
      "metadata": {
        "id": "jzn4cEyuYLJM"
      }
    },
    {
      "cell_type": "markdown",
      "source": [
        "**Since the data is masked, doing exploratory Data Analysis wouldn't make sense**"
      ],
      "metadata": {
        "id": "Z26-fdtUYX56"
      }
    },
    {
      "cell_type": "markdown",
      "source": [
        "**We will go ahead with feature selection**"
      ],
      "metadata": {
        "id": "ZBRR_XuGYn6x"
      }
    },
    {
      "cell_type": "markdown",
      "source": [
        "##**Feature Selection**"
      ],
      "metadata": {
        "id": "UIf_nBqMZMm3"
      }
    },
    {
      "cell_type": "code",
      "source": [
        "import pandas as pd\n",
        "from scipy import stats\n",
        "\n",
        "\n",
        "\n",
        "# Initialize an empty DataFrame to store the results\n",
        "stat_df = pd.DataFrame(columns=['Feature', 'Pvalue'])\n",
        "\n",
        "# Iterating over each feature column, excluding 'Class'\n",
        "for feature in data.drop(columns='Class').columns:\n",
        "    # Separating the data based on class\n",
        "    class_1 = data[data['Class'] == 1][feature]\n",
        "    class_0 = data[data['Class'] == 0][feature]\n",
        "\n",
        "    # Performing t-test between the two classes for the current feature\n",
        "    p_value = stats.ttest_ind(class_1, class_0, equal_var=False).pvalue  # equal_var=False for Welch's t-test\n",
        "\n",
        "    # Appending the results to the DataFrame\n",
        "    stat_df = stat_df.append({'Feature': feature, 'Pvalue': p_value}, ignore_index=True)\n",
        "\n",
        "# Displaying the resulting DataFrame with features and their corresponding p-values\n",
        "print(stat_df)\n"
      ],
      "metadata": {
        "colab": {
          "base_uri": "https://localhost:8080/"
        },
        "id": "fzwZA8olYqJ3",
        "outputId": "49abea15-e4cc-4a6b-e898-c9cd25d7425f"
      },
      "execution_count": null,
      "outputs": [
        {
          "output_type": "stream",
          "name": "stdout",
          "text": [
            "   Feature         Pvalue\n",
            "0     Time   1.654564e-10\n",
            "1       V1   5.491643e-45\n",
            "2       V2   1.288580e-59\n",
            "3       V3   4.786081e-75\n",
            "4       V4  4.587317e-136\n",
            "5       V5   1.497028e-33\n",
            "6       V6   5.880378e-50\n",
            "7       V7   4.292231e-52\n",
            "8       V8   6.275812e-02\n",
            "9       V9   1.193505e-79\n",
            "10     V10   3.382884e-93\n",
            "11     V11  4.577212e-120\n",
            "12     V12  1.481317e-112\n",
            "13     V13   2.842017e-02\n",
            "14     V14  1.040151e-140\n",
            "15     V15   4.993336e-02\n",
            "16     V16   7.905326e-84\n",
            "17     V17   1.558094e-71\n",
            "18     V18   2.639223e-52\n",
            "19     V19   6.707057e-21\n",
            "20     V20   1.687689e-09\n",
            "21     V21   4.882130e-05\n",
            "22     V22   8.346792e-01\n",
            "23     V23   5.710402e-01\n",
            "24     V24   7.565213e-06\n",
            "25     V25   2.487229e-01\n",
            "26     V26   1.542128e-02\n",
            "27     V27   6.129684e-03\n",
            "28     V28   2.251207e-03\n",
            "29  Amount   3.560519e-03\n"
          ]
        }
      ]
    },
    {
      "cell_type": "code",
      "source": [
        "selected_features=stat_df.loc[stat_df.Pvalue<0.05]['Feature'].values"
      ],
      "metadata": {
        "id": "Ylkl4VUnZg6h"
      },
      "execution_count": null,
      "outputs": []
    },
    {
      "cell_type": "markdown",
      "source": [
        "**Base Model**"
      ],
      "metadata": {
        "id": "avCG3knVZyXU"
      }
    },
    {
      "cell_type": "code",
      "source": [
        "# We will proceed with a base model of Logistic Regression\n",
        "\n",
        "# Splitting the data\n",
        "x=data[selected_features]\n",
        "y=data.Class\n",
        "x_train,x_test,y_train,y_test=train_test_split(x,y,test_size=0.30,stratify=y)"
      ],
      "metadata": {
        "id": "RGeNQJxraSAI"
      },
      "execution_count": null,
      "outputs": []
    },
    {
      "cell_type": "code",
      "source": [
        "x_train.shape,x_test.shape"
      ],
      "metadata": {
        "colab": {
          "base_uri": "https://localhost:8080/"
        },
        "id": "OlVrsofgaqZW",
        "outputId": "be6705d1-4aed-4f3d-80ca-ec42d98ac64e"
      },
      "execution_count": null,
      "outputs": [
        {
          "output_type": "execute_result",
          "data": {
            "text/plain": [
              "((199364, 27), (85443, 27))"
            ]
          },
          "metadata": {},
          "execution_count": 21
        }
      ]
    },
    {
      "cell_type": "code",
      "source": [
        "# Scaling the data\n",
        "sc=StandardScaler()\n",
        "x_train_s=pd.DataFrame(sc.fit_transform(x_train),columns=x_train.columns)\n",
        "x_test_s=pd.DataFrame(sc.transform(x_test),columns=x_test.columns)"
      ],
      "metadata": {
        "id": "ww0qRUrWaxgD"
      },
      "execution_count": null,
      "outputs": []
    },
    {
      "cell_type": "code",
      "source": [
        "# Adding constant column in x_train and x_test\n",
        "x_train_s=sm.add_constant(x_train_s)\n",
        "x_test_s=sm.add_constant(x_test_s)"
      ],
      "metadata": {
        "id": "v_QqKyDObIRk"
      },
      "execution_count": null,
      "outputs": []
    },
    {
      "cell_type": "code",
      "source": [
        "y_train=y_train.reset_index().drop(columns='index')\n",
        "y_test=y_test.reset_index().drop(columns='index')"
      ],
      "metadata": {
        "id": "Oyo4QJIUbK36"
      },
      "execution_count": null,
      "outputs": []
    },
    {
      "cell_type": "code",
      "source": [
        "import matplotlib.pyplot as plt\n",
        "from sklearn.metrics import accuracy_score, f1_score, precision_score, recall_score, classification_report, confusion_matrix, ConfusionMatrixDisplay\n",
        "\n",
        "def evaluation(y_test, y_pred):\n",
        "    # Calculate evaluation metrics\n",
        "    accuracy = accuracy_score(y_test, y_pred)\n",
        "    f1 = f1_score(y_test, y_pred)\n",
        "    precision = precision_score(y_test, y_pred)\n",
        "    recall = recall_score(y_test, y_pred)\n",
        "    class_report = classification_report(y_test, y_pred)\n",
        "    cm = confusion_matrix(y_test, y_pred)\n",
        "\n",
        "    # Print evaluation metrics\n",
        "    print('Evaluation Metrics:')\n",
        "    print('-------------------')\n",
        "    print(f'Accuracy Score: {accuracy:.4f}')\n",
        "    print(f'F1 Score: {f1:.4f}')\n",
        "    print(f'Precision: {precision:.4f}')\n",
        "    print(f'Recall: {recall:.4f}')\n",
        "    print('\\nClassification Report:\\n', class_report)\n",
        "\n",
        "    # Plot confusion matrix\n",
        "    plt.figure(figsize=(8, 6))\n",
        "    ConfusionMatrixDisplay(cm, display_labels=['Legitimate', 'Fraudulent']).plot(cmap='Blues')\n",
        "    plt.title('Confusion Matrix')\n",
        "    plt.xlabel('Predicted Label')\n",
        "    plt.ylabel('True Label')\n",
        "    plt.grid(False)\n",
        "    plt.show()\n",
        "\n",
        "# Evaluation function enhanced and ready for use\n"
      ],
      "metadata": {
        "id": "DwL8csrEbV5g"
      },
      "execution_count": null,
      "outputs": []
    },
    {
      "cell_type": "code",
      "source": [
        "import statsmodels.api as sm\n",
        "from statsmodels.stats.outliers_influence import variance_inflation_factor\n",
        "\n",
        "# Fit the logistic regression model\n",
        "base_model = sm.Logit(y_train, sm.add_constant(x_train_s)).fit()\n",
        "\n",
        "# Get the predicted probabilities\n",
        "y_pred_proba = base_model.predict(sm.add_constant(x_test_s))\n",
        "\n",
        "# Summary of the model using summary2() for better formatting\n",
        "model_summary = base_model.summary2()\n",
        "\n",
        "# Display the summary\n",
        "print(model_summary)\n"
      ],
      "metadata": {
        "colab": {
          "base_uri": "https://localhost:8080/"
        },
        "id": "U5PD2cKJcC3m",
        "outputId": "dcd0e6f8-c4d3-4d91-d9c7-94682591cba3"
      },
      "execution_count": null,
      "outputs": [
        {
          "output_type": "stream",
          "name": "stdout",
          "text": [
            "Optimization terminated successfully.\n",
            "         Current function value: 0.004018\n",
            "         Iterations 14\n",
            "                         Results: Logit\n",
            "================================================================\n",
            "Model:              Logit            Method:           MLE      \n",
            "Dependent Variable: Class            Pseudo R-squared: 0.684    \n",
            "Date:               2024-04-02 06:12 AIC:              1658.1589\n",
            "No. Observations:   199364           BIC:              1943.8398\n",
            "Df Model:           27               Log-Likelihood:   -801.08  \n",
            "Df Residuals:       199336           LL-Null:          -2532.3  \n",
            "Converged:          1.0000           LLR p-value:      0.0000   \n",
            "No. Iterations:     14.0000          Scale:            1.0000   \n",
            "-----------------------------------------------------------------\n",
            "             Coef.   Std.Err.     z      P>|z|    [0.025   0.975]\n",
            "-----------------------------------------------------------------\n",
            "const       -8.6209    0.1756  -49.0874  0.0000  -8.9651  -8.2767\n",
            "Time        -0.0566    0.1196   -0.4729  0.6363  -0.2909   0.1778\n",
            "V1           0.1460    0.0933    1.5646  0.1177  -0.0369   0.3290\n",
            "V2           0.0564    0.1113    0.5068  0.6123  -0.1618   0.2746\n",
            "V3           0.0042    0.0942    0.0444  0.9646  -0.1805   0.1889\n",
            "V4           0.9413    0.1339    7.0313  0.0000   0.6789   1.2037\n",
            "V5           0.1790    0.1063    1.6841  0.0922  -0.0293   0.3872\n",
            "V6          -0.1145    0.1070   -1.0704  0.2844  -0.3242   0.0952\n",
            "V7          -0.1284    0.0975   -1.3167  0.1879  -0.3195   0.0627\n",
            "V8          -0.2099    0.0417   -5.0319  0.0000  -0.2917  -0.1282\n",
            "V9          -0.2410    0.1492   -1.6153  0.1062  -0.5334   0.0514\n",
            "V10         -0.7788    0.1265   -6.1544  0.0000  -1.0268  -0.5308\n",
            "V11         -0.1000    0.0978   -1.0221  0.3067  -0.2917   0.0917\n",
            "V12          0.2233    0.1150    1.9413  0.0522  -0.0022   0.4487\n",
            "V13         -0.4491    0.0990   -4.5372  0.0000  -0.6431  -0.2551\n",
            "V14         -0.6284    0.0789   -7.9595  0.0000  -0.7831  -0.4736\n",
            "V15         -0.0896    0.0962   -0.9316  0.3515  -0.2781   0.0989\n",
            "V16         -0.2910    0.1176   -2.4741  0.0134  -0.5215  -0.0605\n",
            "V17         -0.0780    0.0754   -1.0345  0.3009  -0.2257   0.0698\n",
            "V18          0.1355    0.1217    1.1129  0.2657  -0.1031   0.3740\n",
            "V19          0.0501    0.0919    0.5455  0.5854  -0.1300   0.2302\n",
            "V20         -0.3551    0.0699   -5.0829  0.0000  -0.4920  -0.2182\n",
            "V21          0.1019    0.0337    3.0189  0.0025   0.0357   0.1680\n",
            "V24          0.1075    0.1017    1.0574  0.2903  -0.0918   0.3068\n",
            "V26          0.0518    0.1034    0.5005  0.6168  -0.1510   0.2545\n",
            "V27         -0.3666    0.0543   -6.7449  0.0000  -0.4731  -0.2601\n",
            "V28         -0.1387    0.0405   -3.4275  0.0006  -0.2181  -0.0594\n",
            "Amount       0.2449    0.0984    2.4881  0.0128   0.0520   0.4378\n",
            "================================================================\n",
            "\n"
          ]
        }
      ]
    },
    {
      "cell_type": "code",
      "source": [
        "y_pred=[]\n",
        "\n",
        "# Taking threshold for probability at 0.5\n",
        "for i in y_pred_proba:\n",
        "    if i>0.5:\n",
        "        y_pred.append(1)\n",
        "    else:\n",
        "        y_pred.append(0)"
      ],
      "metadata": {
        "id": "a_TVuqz3cwRF"
      },
      "execution_count": null,
      "outputs": []
    },
    {
      "cell_type": "code",
      "source": [
        "# Evaluating the model\n",
        "evaluation(y_test,y_pred)"
      ],
      "metadata": {
        "colab": {
          "base_uri": "https://localhost:8080/",
          "height": 784
        },
        "id": "HxgfaowOc08w",
        "outputId": "ba02a9b6-b6f6-4438-d448-c2f94707b9ea"
      },
      "execution_count": null,
      "outputs": [
        {
          "output_type": "stream",
          "name": "stdout",
          "text": [
            "Evaluation Metrics:\n",
            "-------------------\n",
            "Accuracy Score: 0.9992\n",
            "F1 Score: 0.7149\n",
            "Precision: 0.8812\n",
            "Recall: 0.6014\n",
            "\n",
            "Classification Report:\n",
            "               precision    recall  f1-score   support\n",
            "\n",
            "           0       1.00      1.00      1.00     85295\n",
            "           1       0.88      0.60      0.71       148\n",
            "\n",
            "    accuracy                           1.00     85443\n",
            "   macro avg       0.94      0.80      0.86     85443\n",
            "weighted avg       1.00      1.00      1.00     85443\n",
            "\n"
          ]
        },
        {
          "output_type": "display_data",
          "data": {
            "text/plain": [
              "<Figure size 800x600 with 0 Axes>"
            ]
          },
          "metadata": {}
        },
        {
          "output_type": "display_data",
          "data": {
            "text/plain": [
              "<Figure size 640x480 with 2 Axes>"
            ],
            "image/png": "[encoded data removed]"
          },
          "metadata": {}
        }
      ]
    },
    {
      "cell_type": "markdown",
      "source": [
        "We observe that we get an excellent accuracy score of 99.9% but a poor recall score. This due to the high imbalance in the target class. We will try some oversampling techniques to see if we can counter this."
      ],
      "metadata": {
        "id": "u43WBARxdbZg"
      }
    },
    {
      "cell_type": "markdown",
      "source": [
        "###**SMOTE**"
      ],
      "metadata": {
        "id": "Rx5tIo30ddxd"
      }
    },
    {
      "cell_type": "code",
      "source": [
        "# we now have an oversampled training set\n",
        "# We will apply the Logistic regression model again\n",
        "import statsmodels.api as sm\n",
        "from imblearn.over_sampling import SMOTE\n",
        "\n",
        "# Perform SMOTE resampling\n",
        "x_train_sampled, y_train_sampled = SMOTE().fit_resample(x_train_s, y_train)\n",
        "\n",
        "# Fit the logistic regression model\n",
        "model = sm.Logit(y_train_sampled, sm.add_constant(x_train_sampled)).fit()\n",
        "\n",
        "# Get the predicted probabilities\n",
        "y_pred_proba = model.predict(sm.add_constant(x_test_s))\n",
        "\n",
        "# Display the summary using summary2() for better formatting\n",
        "model_summary = model.summary2()\n",
        "print(model_summary)\n"
      ],
      "metadata": {
        "colab": {
          "base_uri": "https://localhost:8080/"
        },
        "id": "MROp2D6Wd7y2",
        "outputId": "2a5b2491-3a7d-4a44-b635-a6299279f837"
      },
      "execution_count": null,
      "outputs": [
        {
          "output_type": "stream",
          "name": "stdout",
          "text": [
            "Optimization terminated successfully.\n",
            "         Current function value: 0.132760\n",
            "         Iterations 14\n",
            "                          Results: Logit\n",
            "==================================================================\n",
            "Model:              Logit            Method:           MLE        \n",
            "Dependent Variable: Class            Pseudo R-squared: 0.808      \n",
            "Date:               2024-04-02 06:25 AIC:              105743.3861\n",
            "No. Observations:   398040           BIC:              106048.4267\n",
            "Df Model:           27               Log-Likelihood:   -52844.    \n",
            "Df Residuals:       398012           LL-Null:          -2.7590e+05\n",
            "Converged:          1.0000           LLR p-value:      0.0000     \n",
            "No. Iterations:     14.0000          Scale:            1.0000     \n",
            "--------------------------------------------------------------------\n",
            "          Coef.    Std.Err.       z       P>|z|     [0.025    0.975]\n",
            "--------------------------------------------------------------------\n",
            "const    -3.5879     0.0156   -229.5118   0.0000   -3.6185   -3.5572\n",
            "Time     -0.2537     0.0119    -21.2481   0.0000   -0.2771   -0.2303\n",
            "V1        0.5985     0.0173     34.5348   0.0000    0.5646    0.6325\n",
            "V2       -0.1416     0.0206     -6.8744   0.0000   -0.1820   -0.1012\n",
            "V3        0.0779     0.0121      6.4361   0.0000    0.0542    0.1016\n",
            "V4        1.3238     0.0112    117.9356   0.0000    1.3018    1.3458\n",
            "V5        0.3677     0.0136     27.0608   0.0000    0.3410    0.3943\n",
            "V6       -0.2748     0.0128    -21.3909   0.0000   -0.3000   -0.2497\n",
            "V7        0.2011     0.0138     14.5715   0.0000    0.1741    0.2282\n",
            "V8       -0.6626     0.0110    -60.0216   0.0000   -0.6843   -0.6410\n",
            "V9       -0.5681     0.0135    -42.0439   0.0000   -0.5946   -0.5416\n",
            "V10      -0.7828     0.0182    -42.9404   0.0000   -0.8185   -0.7471\n",
            "V11       0.5209     0.0115     45.1747   0.0000    0.4983    0.5435\n",
            "V12      -1.0270     0.0154    -66.7873   0.0000   -1.0571   -0.9968\n",
            "V13      -0.5455     0.0086    -63.2105   0.0000   -0.5624   -0.5286\n",
            "V14      -1.1910     0.0152    -78.1505   0.0000   -1.2208   -1.1611\n",
            "V15      -0.0729     0.0086     -8.4308   0.0000   -0.0898   -0.0559\n",
            "V16      -0.4688     0.0130    -36.1788   0.0000   -0.4942   -0.4434\n",
            "V17      -0.4924     0.0172    -28.6128   0.0000   -0.5261   -0.4586\n",
            "V18      -0.2173     0.0113    -19.3014   0.0000   -0.2394   -0.1952\n",
            "V19       0.1325     0.0087     15.1721   0.0000    0.1154    0.1496\n",
            "V20      -0.1526     0.0134    -11.3532   0.0000   -0.1789   -0.1263\n",
            "V21      -0.0351     0.0082     -4.2876   0.0000   -0.0512   -0.0191\n",
            "V24      -0.0132     0.0101     -1.3070   0.1912   -0.0330    0.0066\n",
            "V26      -0.4093     0.0109    -37.4606   0.0000   -0.4308   -0.3879\n",
            "V27       0.3009     0.0126     23.9207   0.0000    0.2762    0.3255\n",
            "V28       0.2254     0.0102     22.0258   0.0000    0.2054    0.2455\n",
            "Amount    0.3051     0.0267     11.4289   0.0000    0.2528    0.3574\n",
            "==================================================================\n",
            "\n"
          ]
        }
      ]
    },
    {
      "cell_type": "code",
      "source": [
        "y_pred=[]\n",
        "\n",
        "# Taking threshold for probability at 0.5\n",
        "for i in y_pred_proba:\n",
        "    if i>0.5:\n",
        "        y_pred.append(1)\n",
        "    else:\n",
        "        y_pred.append(0)"
      ],
      "metadata": {
        "id": "3iBVoVQcfSR_"
      },
      "execution_count": null,
      "outputs": []
    },
    {
      "cell_type": "code",
      "source": [
        "# Evaluation of the model\n",
        "evaluation(y_test,y_pred)"
      ],
      "metadata": {
        "colab": {
          "base_uri": "https://localhost:8080/",
          "height": 784
        },
        "id": "HIjcFwmqfV5j",
        "outputId": "59c2a036-02b0-46d7-aa9e-2cfcb8f0f241"
      },
      "execution_count": null,
      "outputs": [
        {
          "output_type": "stream",
          "name": "stdout",
          "text": [
            "Evaluation Metrics:\n",
            "-------------------\n",
            "Accuracy Score: 0.9743\n",
            "F1 Score: 0.1096\n",
            "Precision: 0.0583\n",
            "Recall: 0.9122\n",
            "\n",
            "Classification Report:\n",
            "               precision    recall  f1-score   support\n",
            "\n",
            "           0       1.00      0.97      0.99     85295\n",
            "           1       0.06      0.91      0.11       148\n",
            "\n",
            "    accuracy                           0.97     85443\n",
            "   macro avg       0.53      0.94      0.55     85443\n",
            "weighted avg       1.00      0.97      0.99     85443\n",
            "\n"
          ]
        },
        {
          "output_type": "display_data",
          "data": {
            "text/plain": [
              "<Figure size 800x600 with 0 Axes>"
            ]
          },
          "metadata": {}
        },
        {
          "output_type": "display_data",
          "data": {
            "text/plain": [
              "<Figure size 640x480 with 2 Axes>"
            ],
            "image/png": "[encoded data removed]"
          },
          "metadata": {}
        }
      ]
    },
    {
      "cell_type": "code",
      "source": [
        "import matplotlib.pyplot as plt\n",
        "\n",
        "# Set the figure size and create a horizontal bar plot\n",
        "plt.figure(figsize=(10, 12))\n",
        "plt.barh(y=model.params.index, width=model.params.values, color='skyblue')\n",
        "\n",
        "# Add titles and labels\n",
        "plt.title('Feature Importance (Logistic Regression Coefficients)', fontsize=16)\n",
        "plt.xlabel('Coefficient in the Model', fontsize=14)\n",
        "plt.ylabel('Feature', fontsize=14)\n",
        "plt.xticks(fontsize=12)\n",
        "plt.yticks(fontsize=12)\n",
        "\n",
        "# Display the plot\n",
        "plt.show()\n"
      ],
      "metadata": {
        "colab": {
          "base_uri": "https://localhost:8080/",
          "height": 1000
        },
        "id": "XooAHUbkfg1C",
        "outputId": "2d08e7e7-cea0-4993-8beb-24ed42951efb"
      },
      "execution_count": null,
      "outputs": [
        {
          "output_type": "display_data",
          "data": {
            "text/plain": [
              "<Figure size 1000x1200 with 1 Axes>"
            ],
            "image/png": "[encoded data removed]"
          },
          "metadata": {}
        }
      ]
    },
    {
      "cell_type": "markdown",
      "source": [
        "We observe that our recall score has imporved considerably in case of a Logistic Regression model. We will further see whether our model could improve through some tree based models"
      ],
      "metadata": {
        "id": "EWEBGyXvf1dy"
      }
    },
    {
      "cell_type": "markdown",
      "source": [
        "# **Decision Tree**"
      ],
      "metadata": {
        "id": "_DsQ9i4Rf4BM"
      }
    },
    {
      "cell_type": "markdown",
      "source": [
        "Since we are using decision tree we won't be needing to scale the split"
      ],
      "metadata": {
        "id": "fnGM0BCqgI0q"
      }
    },
    {
      "cell_type": "code",
      "source": [
        "from imblearn.over_sampling import SMOTE\n",
        "from sklearn.tree import DecisionTreeClassifier\n",
        "\n",
        "# Resample the training data using SMOTE\n",
        "x_train_sampled, y_train_sampled = SMOTE().fit_resample(x_train, y_train)\n",
        "\n",
        "# Initialize and train the Decision Tree classifier\n",
        "dtree = DecisionTreeClassifier(max_depth=5)\n",
        "dt_model = dtree.fit(x_train_sampled, y_train_sampled)\n",
        "\n",
        "# Make predictions on the test set\n",
        "y_pred = dt_model.predict(x_test)\n",
        "\n",
        "# Evaluate the model\n",
        "evaluation(y_test, y_pred)\n"
      ],
      "metadata": {
        "colab": {
          "base_uri": "https://localhost:8080/",
          "height": 784
        },
        "id": "X973aYXqhH_h",
        "outputId": "5a27499f-22d7-4a0a-e89d-3a861e7a1477"
      },
      "execution_count": null,
      "outputs": [
        {
          "output_type": "stream",
          "name": "stdout",
          "text": [
            "Evaluation Metrics:\n",
            "-------------------\n",
            "Accuracy Score: 0.9857\n",
            "F1 Score: 0.1769\n",
            "Precision: 0.0983\n",
            "Recall: 0.8851\n",
            "\n",
            "Classification Report:\n",
            "               precision    recall  f1-score   support\n",
            "\n",
            "           0       1.00      0.99      0.99     85295\n",
            "           1       0.10      0.89      0.18       148\n",
            "\n",
            "    accuracy                           0.99     85443\n",
            "   macro avg       0.55      0.94      0.58     85443\n",
            "weighted avg       1.00      0.99      0.99     85443\n",
            "\n"
          ]
        },
        {
          "output_type": "display_data",
          "data": {
            "text/plain": [
              "<Figure size 800x600 with 0 Axes>"
            ]
          },
          "metadata": {}
        },
        {
          "output_type": "display_data",
          "data": {
            "text/plain": [
              "<Figure size 640x480 with 2 Axes>"
            ],
            "image/png": "[encoded data removed]"
          },
          "metadata": {}
        }
      ]
    },
    {
      "cell_type": "markdown",
      "source": [
        "We observe that Decision Tree performs worse than Losgistic Regression. We will now see whether bossting methods actually have a positive effect on the oversampled train data."
      ],
      "metadata": {
        "id": "V7cU3o-chtq6"
      }
    },
    {
      "cell_type": "markdown",
      "source": [
        "#**Boosting**"
      ],
      "metadata": {
        "id": "ew1C_Zmwh8-x"
      }
    },
    {
      "cell_type": "code",
      "source": [
        "lgbm=LGBMClassifier() # Going with default parameters\n",
        "lg_model=lgbm.fit(x_train_sampled,y_train_sampled)\n",
        "y_pred=lg_model.predict(x_test)"
      ],
      "metadata": {
        "colab": {
          "base_uri": "https://localhost:8080/"
        },
        "id": "87MVrGiGiJgo",
        "outputId": "220ea445-9f44-4da5-e2d4-465f4de6a30b"
      },
      "execution_count": null,
      "outputs": [
        {
          "output_type": "stream",
          "name": "stdout",
          "text": [
            "[LightGBM] [Info] Number of positive: 199020, number of negative: 199020\n",
            "[LightGBM] [Info] Auto-choosing col-wise multi-threading, the overhead of testing was 0.102995 seconds.\n",
            "You can set `force_col_wise=true` to remove the overhead.\n",
            "[LightGBM] [Info] Total Bins 6885\n",
            "[LightGBM] [Info] Number of data points in the train set: 398040, number of used features: 27\n",
            "[LightGBM] [Info] [binary:BoostFromScore]: pavg=0.500000 -> initscore=0.000000\n"
          ]
        }
      ]
    },
    {
      "cell_type": "code",
      "source": [
        "# Model evaluation\n",
        "evaluation(y_test,y_pred)"
      ],
      "metadata": {
        "colab": {
          "base_uri": "https://localhost:8080/",
          "height": 784
        },
        "id": "GkotHmj9iwM0",
        "outputId": "37417301-5215-4113-ef09-fc682a940543"
      },
      "execution_count": null,
      "outputs": [
        {
          "output_type": "stream",
          "name": "stdout",
          "text": [
            "Evaluation Metrics:\n",
            "-------------------\n",
            "Accuracy Score: 0.9990\n",
            "F1 Score: 0.7425\n",
            "Precision: 0.6667\n",
            "Recall: 0.8378\n",
            "\n",
            "Classification Report:\n",
            "               precision    recall  f1-score   support\n",
            "\n",
            "           0       1.00      1.00      1.00     85295\n",
            "           1       0.67      0.84      0.74       148\n",
            "\n",
            "    accuracy                           1.00     85443\n",
            "   macro avg       0.83      0.92      0.87     85443\n",
            "weighted avg       1.00      1.00      1.00     85443\n",
            "\n"
          ]
        },
        {
          "output_type": "display_data",
          "data": {
            "text/plain": [
              "<Figure size 800x600 with 0 Axes>"
            ]
          },
          "metadata": {}
        },
        {
          "output_type": "display_data",
          "data": {
            "text/plain": [
              "<Figure size 640x480 with 2 Axes>"
            ],
            "image/png": "[encoded data removed]"
          },
          "metadata": {}
        }
      ]
    },
    {
      "cell_type": "markdown",
      "source": [
        "We observe that the lightgbm model is performing poorly compared to Decision Tree in terms of recall score, but has a much better f1-score. Let us see whether we can improve the performance of the lightgbm model by increasing the weight of the positive class"
      ],
      "metadata": {
        "id": "dEa3VJjri4Bv"
      }
    },
    {
      "cell_type": "code",
      "source": [
        "lgbm=LGBMClassifier(scale_pos_weight=100)\n",
        "lg_model=lgbm.fit(x_train_sampled,y_train_sampled)\n",
        "y_pred=lg_model.predict(x_test)"
      ],
      "metadata": {
        "colab": {
          "base_uri": "https://localhost:8080/"
        },
        "id": "GmORNY6Ci5rm",
        "outputId": "3638f25f-fd3e-468a-9fc5-42ba4bae13cf"
      },
      "execution_count": null,
      "outputs": [
        {
          "output_type": "stream",
          "name": "stdout",
          "text": [
            "[LightGBM] [Info] Number of positive: 199020, number of negative: 199020\n",
            "[LightGBM] [Info] Auto-choosing col-wise multi-threading, the overhead of testing was 0.176273 seconds.\n",
            "You can set `force_col_wise=true` to remove the overhead.\n",
            "[LightGBM] [Info] Total Bins 6885\n",
            "[LightGBM] [Info] Number of data points in the train set: 398040, number of used features: 27\n",
            "[LightGBM] [Info] [binary:BoostFromScore]: pavg=0.500000 -> initscore=0.000000\n"
          ]
        }
      ]
    },
    {
      "cell_type": "code",
      "source": [
        "# Model evaluation\n",
        "evaluation(y_test,y_pred)"
      ],
      "metadata": {
        "colab": {
          "base_uri": "https://localhost:8080/",
          "height": 784
        },
        "id": "iVNSjmNMjAj2",
        "outputId": "5d72b44f-6fda-4f00-9bc9-95ecc4f2ae1a"
      },
      "execution_count": null,
      "outputs": [
        {
          "output_type": "stream",
          "name": "stdout",
          "text": [
            "Evaluation Metrics:\n",
            "-------------------\n",
            "Accuracy Score: 0.9955\n",
            "F1 Score: 0.4013\n",
            "Precision: 0.2612\n",
            "Recall: 0.8649\n",
            "\n",
            "Classification Report:\n",
            "               precision    recall  f1-score   support\n",
            "\n",
            "           0       1.00      1.00      1.00     85295\n",
            "           1       0.26      0.86      0.40       148\n",
            "\n",
            "    accuracy                           1.00     85443\n",
            "   macro avg       0.63      0.93      0.70     85443\n",
            "weighted avg       1.00      1.00      1.00     85443\n",
            "\n"
          ]
        },
        {
          "output_type": "display_data",
          "data": {
            "text/plain": [
              "<Figure size 800x600 with 0 Axes>"
            ]
          },
          "metadata": {}
        },
        {
          "output_type": "display_data",
          "data": {
            "text/plain": [
              "<Figure size 640x480 with 2 Axes>"
            ],
            "image/png": "[encoded data removed]"
          },
          "metadata": {}
        }
      ]
    },
    {
      "cell_type": "markdown",
      "source": [
        "We observe that Lightgbm still doesn't have a better recall score than logistic regression or Decision tree, even with providing a higher weightage to the positive class. Out of all the models we tried so far, Logistic Regression seems to be working the best"
      ],
      "metadata": {
        "id": "dSmpO-52jIuy"
      }
    },
    {
      "cell_type": "markdown",
      "source": [
        "#**Conclusion**\n",
        "\n",
        "* Out of all the models we saw that Logistic Regression worked the best for us in terms of recall score, though the model had a lot of false positives.\n",
        "  \n",
        "*  The best method to solve the given problem was applying an oversampling technique(SMOTE) and then applying Logistic regression.\n",
        "Tree based models seem to be giving a good f1-score but a poor recall score comparitively\n",
        "\n",
        "*  Boosting methods seem to be performing the best in terms of having the least amount of false positives.\n",
        "   \n",
        "\n",
        "\n",
        "\n",
        "\n",
        "\n",
        "\n"
      ],
      "metadata": {
        "id": "19iOt2-0jJnb"
      }
    }
  ]
}